{
 "cells": [
  {
   "cell_type": "markdown",
   "metadata": {},
   "source": [
    "<div class=\"alert alert-block alert-info\"> <b>NOTE</b> Please select the kernel <code>Python [conda env: deepcell]</code> for this notebook. </div>"
   ]
  },
  {
   "cell_type": "markdown",
   "metadata": {},
   "source": [
    "# 1. Data Preparation\n",
    "Resave data as a set of tiff files in order to match Cell Tracking Challenge conventions which are expected by Baxter"
   ]
  },
  {
   "cell_type": "code",
   "execution_count": 1,
   "metadata": {},
   "outputs": [],
   "source": [
    "import os\n",
    "import sys\n",
    "\n",
    "import numpy as np\n",
    "from tifffile import imwrite\n",
    "\n",
    "from deepcell.datasets import DynamicNuclearNetTracking\n",
    "from deepcell_tracking.isbi_utils import trk_to_isbi\n",
    "\n",
    "sys.path.append('..')\n",
    "import utils"
   ]
  },
  {
   "cell_type": "code",
   "execution_count": 2,
   "metadata": {},
   "outputs": [],
   "source": [
    "data_dir = 'data'\n",
    "raw_dir = os.path.join(data_dir, 'raw')\n",
    "seg_gt_dir = os.path.join(raw_dir, 'Analysis/Segmentation_GT')\n",
    "gt_dir = os.path.join(data_dir, 'GT')\n",
    "\n",
    "for d in [raw_dir, seg_gt_dir, gt_dir]:\n",
    "    if not os.path.exists(d):\n",
    "        os.makedirs(d)"
   ]
  },
  {
   "cell_type": "markdown",
   "metadata": {},
   "source": [
    "Load the test split of the tracking data"
   ]
  },
  {
   "cell_type": "code",
   "execution_count": 5,
   "metadata": {
    "tags": []
   },
   "outputs": [
    {
     "name": "stderr",
     "output_type": "stream",
     "text": [
      "INFO:root:Checking for cached data\n",
      "INFO:root:Making request to server\n",
      "INFO:root:Downloading data/dynamic-nuclear-net/DynamicNuclearNet-tracking-v1_1.zip with size 2.6 GB to /Users/morganschwartz/.deepcell/datasets\n",
      "2.62GB [05:23, 8.69MB/s]                             \n",
      "INFO:root:🎉 Successfully downloaded file to /Users/morganschwartz/.deepcell/datasets/DynamicNuclearNet-tracking-v1_1.zip\n",
      "INFO:root:Extracting /Users/morganschwartz/.deepcell/datasets/DynamicNuclearNet-tracking-v1_1.zip\n",
      "INFO:root:Successfully extracted /Users/morganschwartz/.deepcell/datasets/DynamicNuclearNet-tracking-v1_1.zip into /Users/morganschwartz/.deepcell/datasets\n"
     ]
    }
   ],
   "source": [
    "# Load test data\n",
    "dnn = DynamicNuclearNetTracking(version='1.1')\n",
    "X, y, lineages = dnn.load_data(split='test')\n",
    "data = {\n",
    "    'X': X,\n",
    "    'y': y,\n",
    "    'lineages': lineages\n",
    "}"
   ]
  },
  {
   "cell_type": "markdown",
   "metadata": {},
   "source": [
    "Convert each batch of the test split to the standard ISBI format which is compatible with most of the models that we will test."
   ]
  },
  {
   "cell_type": "code",
   "execution_count": 7,
   "metadata": {},
   "outputs": [
    {
     "name": "stderr",
     "output_type": "stream",
     "text": [
      "2022-11-18 00:58:07.723153: I tensorflow/stream_executor/cuda/cuda_dnn.cc:368] Loaded cuDNN version 8100\n",
      "/usr/local/lib/python3.8/dist-packages/deepcell_toolbox/deep_watershed.py:179: FutureWarning: `selem` is a deprecated argument name for `h_maxima`. It will be removed in version 1.0. Please use `footprint` instead.\n",
      "  markers = h_maxima(image=maxima,\n",
      "/usr/local/lib/python3.8/dist-packages/deepcell_toolbox/deep_watershed.py:179: FutureWarning: `selem` is a deprecated argument name for `h_maxima`. It will be removed in version 1.0. Please use `footprint` instead.\n",
      "  markers = h_maxima(image=maxima,\n",
      "/usr/local/lib/python3.8/dist-packages/deepcell_toolbox/deep_watershed.py:179: FutureWarning: `selem` is a deprecated argument name for `h_maxima`. It will be removed in version 1.0. Please use `footprint` instead.\n",
      "  markers = h_maxima(image=maxima,\n",
      "/usr/local/lib/python3.8/dist-packages/deepcell_toolbox/deep_watershed.py:179: FutureWarning: `selem` is a deprecated argument name for `h_maxima`. It will be removed in version 1.0. Please use `footprint` instead.\n",
      "  markers = h_maxima(image=maxima,\n",
      "/usr/local/lib/python3.8/dist-packages/deepcell_toolbox/deep_watershed.py:179: FutureWarning: `selem` is a deprecated argument name for `h_maxima`. It will be removed in version 1.0. Please use `footprint` instead.\n",
      "  markers = h_maxima(image=maxima,\n",
      "/usr/local/lib/python3.8/dist-packages/deepcell_toolbox/deep_watershed.py:179: FutureWarning: `selem` is a deprecated argument name for `h_maxima`. It will be removed in version 1.0. Please use `footprint` instead.\n",
      "  markers = h_maxima(image=maxima,\n",
      "/usr/local/lib/python3.8/dist-packages/deepcell_toolbox/deep_watershed.py:179: FutureWarning: `selem` is a deprecated argument name for `h_maxima`. It will be removed in version 1.0. Please use `footprint` instead.\n",
      "  markers = h_maxima(image=maxima,\n",
      "/usr/local/lib/python3.8/dist-packages/deepcell_toolbox/deep_watershed.py:179: FutureWarning: `selem` is a deprecated argument name for `h_maxima`. It will be removed in version 1.0. Please use `footprint` instead.\n",
      "  markers = h_maxima(image=maxima,\n",
      "/usr/local/lib/python3.8/dist-packages/deepcell_toolbox/deep_watershed.py:179: FutureWarning: `selem` is a deprecated argument name for `h_maxima`. It will be removed in version 1.0. Please use `footprint` instead.\n",
      "  markers = h_maxima(image=maxima,\n",
      "/usr/local/lib/python3.8/dist-packages/deepcell_toolbox/deep_watershed.py:179: FutureWarning: `selem` is a deprecated argument name for `h_maxima`. It will be removed in version 1.0. Please use `footprint` instead.\n",
      "  markers = h_maxima(image=maxima,\n",
      "/usr/local/lib/python3.8/dist-packages/deepcell_toolbox/deep_watershed.py:179: FutureWarning: `selem` is a deprecated argument name for `h_maxima`. It will be removed in version 1.0. Please use `footprint` instead.\n",
      "  markers = h_maxima(image=maxima,\n",
      "/usr/local/lib/python3.8/dist-packages/deepcell_toolbox/deep_watershed.py:179: FutureWarning: `selem` is a deprecated argument name for `h_maxima`. It will be removed in version 1.0. Please use `footprint` instead.\n",
      "  markers = h_maxima(image=maxima,\n"
     ]
    }
   ],
   "source": [
    "for batch_no in range(len(data['lineages'])):\n",
    "    # Build subdirectories for data\n",
    "    raw_subdir = os.path.join(raw_dir, '{:03}'.format(batch_no + 1))\n",
    "    gt_subdir = os.path.join(gt_dir, '{:03}'.format(batch_no + 1))\n",
    "    seg_gt_subdir = os.path.join(seg_gt_dir, '{:03}'.format(batch_no + 1))\n",
    "\n",
    "    # Create directories if needed\n",
    "    for d in (raw_subdir, gt_subdir, seg_gt_subdir):\n",
    "        if not os.path.exists(d):\n",
    "            os.makedirs(d)\n",
    "\n",
    "    # Pull out relevant data for this batch\n",
    "    X = data['X'][batch_no]\n",
    "    y = data['y'][batch_no]\n",
    "    lineage = data['lineages'][batch_no]\n",
    "\n",
    "    # Correct discontiguous tracks, which are not allowed by CTC\n",
    "    y, lineage = utils.convert_to_contiguous(y, lineage)\n",
    "\n",
    "    # Determine position of zero padding for removal\n",
    "    slc = utils.find_zero_padding(X)\n",
    "    X = X[slc]\n",
    "    y = y[slc]\n",
    "\n",
    "    # Determine which frames are zero padding\n",
    "    frames = np.sum(y, axis=(1,2)) # True if image not blank\n",
    "    good_frames = np.where(frames)[0]\n",
    "    X = X[:len(good_frames)]\n",
    "    y = y[:len(good_frames)]\n",
    "\n",
    "    # Need to translate lineages and adjust images to match restrictive ISBI format\n",
    "    # Prepare output txt\n",
    "    text_file = os.path.join(gt_subdir, 'man_track.txt')\n",
    "    df = trk_to_isbi(lineage)\n",
    "    df.to_csv(text_file, sep=' ', header=False, index=False)\n",
    "\n",
    "    # Save each frame of the movie as an individual tif\n",
    "    channel = 0 # These images should only have one channel\n",
    "    for i in range(X.shape[0]):\n",
    "        name_raw = os.path.join(raw_subdir, 't{:03}.tif'.format(i))\n",
    "        name_seg_gt = os.path.join(seg_gt_subdir, 't{:03}.tif'.format(i))\n",
    "        name_gt = os.path.join(gt_subdir, 't{:03}.tif'.format(i))\n",
    "\n",
    "        imwrite(name_raw, X[i, ..., channel])\n",
    "        imwrite(name_seg_gt, y[i, ..., channel].astype('uint16'))\n",
    "        imwrite(name_gt, y[i, ..., channel].astype('uint16'))"
   ]
  },
  {
   "cell_type": "markdown",
   "metadata": {},
   "source": [
    "# 2. Tracking\n",
    "\n",
    "The steps for tracking will be performed in Matlab and the Baxter Algorithm GUI. You will need access to Matlab 2019b. The instructions below outline the general workflow for generating benchmarking results using the Baxter algorithm. However additional support for using the software is available in the user guide located in the KTH-SE folder (`KTH-SE/UserGuide/UserGuide.pdf`).\n",
    "\n",
    "## Part 1 - Setup\n",
    "1. Open the KTH-SE folder in Matlab\n",
    "2. Open `BaxterAlgorithms.m` in the Matlab editor and then hit Run. This should open a GUI.\n",
    "3. Within the GUI, select `Files > Open experiment > Browse...`. Navigate to the `data/raw` folder located within this Baxter folder.\n",
    "4. Ensure that all files are selected in the list on the right hand side of the GUI.\n",
    "## Part 2 - GT Segmentations\n",
    "5. Select `Settings > Load Settings (Browse for files)`. Navigate to `Settings-SegmentationGT.csv` within the Baxter folder. In the following prompts, ensure that segmentations are applied to all images.\n",
    "6. Select `Automated > Track`. In the pop-up window, change the `Save Version` to \"GT\" and press `Start`. \n",
    "7. Select `File > Export tracks to CTC format > RES tracks` and follow the prompts in order to export the tracking results to the standard CTC format. Make sure to select the \"GT\" version for export.\n"
   ]
  },
  {
   "cell_type": "markdown",
   "metadata": {},
   "source": [
    "# 3. Evaluation"
   ]
  },
  {
   "cell_type": "code",
   "execution_count": 47,
   "metadata": {},
   "outputs": [],
   "source": [
    "import os\n",
    "import re\n",
    "import shutil\n",
    "import subprocess\n",
    "\n",
    "import pandas as pd\n",
    "\n",
    "from deepcell_tracking.metrics import TrackingMetrics"
   ]
  },
  {
   "cell_type": "code",
   "execution_count": 49,
   "metadata": {},
   "outputs": [],
   "source": [
    "data_dir = 'data'\n",
    "gt_dir = os.path.join(data_dir, 'GT')\n",
    "export_gt_dir = os.path.join(data_dir, 'raw/Analysis/CellDataGT/RES/')\n",
    "ctc_gt = os.path.join(data_dir, 'SEG_GT')\n",
    "ctc_dc = os.path.join(data_dir, 'SEG_PRED')\n",
    "\n",
    "data_ids = os.listdir(gt_dir)\n",
    "\n",
    "node_match_threshold = 0.6\n",
    "\n",
    "ctc_software = '../CTC_Evaluation_Software'\n",
    "operating_system = 'Linux' # or 'Mac' or 'Win'\n",
    "num_digits = '3'"
   ]
  },
  {
   "cell_type": "markdown",
   "metadata": {},
   "source": [
    "In order to utilize the CTC evaluation functions, the data must be reorganized to match CTC conventions."
   ]
  },
  {
   "cell_type": "code",
   "execution_count": 32,
   "metadata": {},
   "outputs": [],
   "source": [
    "# Copy the GT data over to appropriate folders\n",
    "target = ctc_gt\n",
    "for d in os.listdir(gt_dir):\n",
    "    seg_dir = os.path.join(target, f'{d}_GT/SEG')\n",
    "    tra_dir = os.path.join(target, f'{d}_GT/TRA')\n",
    "    if not os.path.exists(seg_dir): os.makedirs(seg_dir)\n",
    "    if not os.path.exists(tra_dir): os.makedirs(tra_dir)\n",
    "\n",
    "    for f in os.listdir(os.path.join(gt_dir, d)):\n",
    "        start_path = os.path.join(gt_dir, d, f)\n",
    "\n",
    "        # Only copy the txt file with tracks to TRA dir\n",
    "        if f.endswith('txt'):\n",
    "            end_path = os.path.join(tra_dir, f)\n",
    "            shutil.copy(start_path, end_path)\n",
    "        else:\n",
    "            # Copy to seg_dir and modify name\n",
    "            end_path = os.path.join(seg_dir, f'man_seg{f[1:]}')\n",
    "            shutil.copy(start_path, end_path)\n",
    "\n",
    "            # Copy to tra dir and modify name\n",
    "            end_path = os.path.join(tra_dir, f'man_track{f[1:]}')\n",
    "            shutil.copy(start_path, end_path)\n",
    "\n",
    "# Copy over results\n",
    "target = ctc_gt\n",
    "start_dirs = export_gt_dir\n",
    "for d in os.listdir(start_dirs):\n",
    "    start_dir = os.path.join(start_dirs, d)\n",
    "    end_dir = os.path.join(target, d)\n",
    "    shutil.copytree(start_dir, end_dir)"
   ]
  },
  {
   "cell_type": "code",
   "execution_count": null,
   "metadata": {
    "tags": []
   },
   "outputs": [],
   "source": [
    "benchmarks = []\n",
    "results_dir = ctc_gt\n",
    "s = 'GT'\n",
    "\n",
    "for data_id in data_ids:\n",
    "    print(data_id)\n",
    "    results = {\n",
    "        'model': f'Baxter - {s}',\n",
    "        'data_id': data_id\n",
    "    }\n",
    "    gt_dir = os.path.join(results_dir, f'{data_id}_GT/TRA')\n",
    "    res_dir = os.path.join(results_dir, f'{data_id}_RES')\n",
    "\n",
    "    # Deepcell benchmarking\n",
    "    m = TrackingMetrics.from_isbi_dirs(gt_dir, res_dir, threshold=node_match_threshold)\n",
    "    results.update(m.stats)\n",
    "\n",
    "    # CTC metrics\n",
    "    for metric, path in [('DET', 'DETMeasure'), ('SEG', 'SEGMeasure'), ('TRA', 'TRAMeasure')]:\n",
    "        p = subprocess.run([os.path.join(ctc_software, operating_system, path), results_dir, data_id, num_digits],\n",
    "                            stdout=subprocess.PIPE)\n",
    "        outstring = p.stdout\n",
    "\n",
    "        try:\n",
    "            val = float(outstring.decode('utf-8').split()[-1])\n",
    "            results[metric] = val\n",
    "        except:\n",
    "            print('Benchmarking failure', path, results_dir, data_id)\n",
    "            print(outstring.decode('utf-8'))\n",
    "\n",
    "    benchmarks.append(results)\n",
    "\n",
    "df = pd.DataFrame(benchmarks)\n",
    "df.to_csv('benchmarks.csv')"
   ]
  },
  {
   "cell_type": "code",
   "execution_count": null,
   "metadata": {},
   "outputs": [],
   "source": []
  }
 ],
 "metadata": {
  "kernelspec": {
   "display_name": "Python 3 (ipykernel)",
   "language": "python",
   "name": "python3"
  },
  "language_info": {
   "codemirror_mode": {
    "name": "ipython",
    "version": 3
   },
   "file_extension": ".py",
   "mimetype": "text/x-python",
   "name": "python",
   "nbconvert_exporter": "python",
   "pygments_lexer": "ipython3",
   "version": "3.8.16"
  },
  "vscode": {
   "interpreter": {
    "hash": "b9a720197f97f3642c161e393a7de41873f9dd6c23052d277f498c18bb84bfe3"
   }
  }
 },
 "nbformat": 4,
 "nbformat_minor": 4
}
