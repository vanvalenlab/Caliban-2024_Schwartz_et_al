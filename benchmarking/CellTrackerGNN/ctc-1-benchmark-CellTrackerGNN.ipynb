{
 "cells": [
  {
   "cell_type": "markdown",
   "id": "4ecf8189-e2dc-4fec-a751-73c9533e79e3",
   "metadata": {},
   "source": [
    "<div class=\"alert alert-block alert-info\"> <b>NOTE</b> Please select the kernel <code>Python [conda env: deepcell]</code> for this notebook. </div>"
   ]
  },
  {
   "cell_type": "markdown",
   "id": "710d0e85-d0a2-4261-9c5f-2af8e2a31559",
   "metadata": {
    "tags": []
   },
   "source": [
    "# 1. Data Preparation\n",
    "Resave data as a set of tiff files in order to match Cell Tracking Challenge"
   ]
  },
  {
   "cell_type": "code",
   "execution_count": 2,
   "id": "4d2481f4-d6d2-4864-b769-b6d8c7e53cb3",
   "metadata": {},
   "outputs": [],
   "source": [
    "import os\n",
    "import sys\n",
    "\n",
    "import numpy as np\n",
    "\n",
    "from deepcell_tracking.trk_io import load_trks\n",
    "\n",
    "sys.path.append('..')\n",
    "import utils"
   ]
  },
  {
   "cell_type": "code",
   "execution_count": 3,
   "id": "31f4c133-47d1-4ee8-8555-e24066f68e55",
   "metadata": {},
   "outputs": [],
   "source": [
    "data_dir = 'ctc-data'\n",
    "gt_seg_dir = os.path.join(data_dir, 'gt-seg')\n",
    "pred_seg_dir = os.path.join(data_dir, 'pred-seg')\n",
    "\n",
    "models = [\n",
    "    'Fluo-N2DL-HeLa'\n",
    "]\n",
    "\n",
    "\n",
    "for d in [data_dir, gt_seg_dir, pred_seg_dir]:\n",
    "    if not os.path.exists(d):\n",
    "        os.makedirs(d)"
   ]
  },
  {
   "cell_type": "markdown",
   "id": "b4799376-f7da-48df-9241-106a2355b392",
   "metadata": {},
   "source": [
    "Load the test split of the tracking data"
   ]
  },
  {
   "cell_type": "code",
   "execution_count": 4,
   "id": "47afd901-b9dc-4dc4-b24a-fd9819c5a24f",
   "metadata": {},
   "outputs": [],
   "source": [
    "files = ['../../data/Fluo-N2DL-Hela-test/Fluo-N2DL-HeLa-test-01.trk', '../../data/Fluo-N2DL-Hela-test/Fluo-N2DL-HeLa-test-02.trk']\n",
    "X, y, lineages = [], [], []\n",
    "for f in files:\n",
    "    data = load_trks(f)\n",
    "    X.append(data['X'])\n",
    "    y.append(data['y'])\n",
    "    lineages.append(data['lineages'][0])\n",
    "\n",
    "data = {\n",
    "    'X': np.stack(X, axis=0),\n",
    "    'y': np.stack(y, axis=0),\n",
    "    'lineages': lineages\n",
    "}"
   ]
  },
  {
   "cell_type": "markdown",
   "id": "8da284a5-c22e-4ec8-a619-12fce9f660e7",
   "metadata": {},
   "source": [
    "Convert each batch of the test split to the standard ISBI format which is compatible with most of the models that we will test."
   ]
  },
  {
   "cell_type": "code",
   "execution_count": 5,
   "id": "9d71c659-090c-4c62-9e3e-06d5e969cf9b",
   "metadata": {
    "tags": []
   },
   "outputs": [],
   "source": [
    "for batch_no in range(len(data['lineages'])):\n",
    "    # Pull out relevant data for this batch\n",
    "    X = data['X'][batch_no]\n",
    "    y = data['y'][batch_no]\n",
    "    lineage = data['lineages'][batch_no]\n",
    "\n",
    "    # Correct discontiguous tracks, which are not allowed by CTC\n",
    "    y, lineage = utils.convert_to_contiguous(y, lineage)\n",
    "\n",
    "    # Determine position of zero padding for removal\n",
    "    slc = utils.find_zero_padding(X)\n",
    "    X = X[slc]\n",
    "    y = y[slc]\n",
    "\n",
    "    # Determine which frames are zero padding\n",
    "    frames = np.sum(y, axis=(1,2)) # True if image not blank\n",
    "    good_frames = np.where(frames)[0]\n",
    "    X = X[:len(good_frames), ..., 0]\n",
    "    y = y[:len(good_frames), ..., 0]\n",
    "\n",
    "    # Save copes of raw and gt data in a folder for each model\n",
    "    # 2 copies, one for gt seg and one for pred seg\n",
    "    for m in models:\n",
    "        # Save pred seg copy\n",
    "        utils.save_ctc_raw(os.path.join(pred_seg_dir, m), batch_no + 1, X)\n",
    "        utils.save_ctc_gt(os.path.join(pred_seg_dir, m), batch_no + 1, y, lineage)\n",
    "\n",
    "        # Save GT seg copy\n",
    "        utils.save_ctc_raw(os.path.join(gt_seg_dir, m), batch_no + 1, X)\n",
    "        utils.save_ctc_gt(os.path.join(gt_seg_dir, m), batch_no + 1, y, lineage)\n",
    "        utils.save_ctc_res(os.path.join(gt_seg_dir, m), batch_no + 1, y, lineage=None, seg=True)"
   ]
  },
  {
   "cell_type": "code",
   "execution_count": null,
   "id": "c7c4a880-8854-4662-b5ef-f47122024eec",
   "metadata": {},
   "outputs": [],
   "source": []
  }
 ],
 "metadata": {
  "kernelspec": {
   "display_name": "deepcell-dev",
   "language": "python",
   "name": "python3"
  },
  "language_info": {
   "codemirror_mode": {
    "name": "ipython",
    "version": 3
   },
   "file_extension": ".py",
   "mimetype": "text/x-python",
   "name": "python",
   "nbconvert_exporter": "python",
   "pygments_lexer": "ipython3",
   "version": "3.8.15"
  }
 },
 "nbformat": 4,
 "nbformat_minor": 5
}
